{
 "cells": [
  {
   "cell_type": "code",
   "execution_count": 3,
   "id": "2353eafd-c43f-4313-91ea-95c61eeda879",
   "metadata": {},
   "outputs": [
    {
     "ename": "ImportError",
     "evalue": "cannot import name 'AgentTask' from 'livekit.agents' (C:\\Users\\Admin\\AppData\\Local\\Programs\\Python\\Python311\\Lib\\site-packages\\livekit\\agents\\__init__.py)",
     "output_type": "error",
     "traceback": [
      "\u001b[1;31m---------------------------------------------------------------------------\u001b[0m",
      "\u001b[1;31mImportError\u001b[0m                               Traceback (most recent call last)",
      "Cell \u001b[1;32mIn[3], line 13\u001b[0m\n\u001b[0;32m      1\u001b[0m \u001b[38;5;28;01mfrom\u001b[39;00m\u001b[38;5;250m \u001b[39m\u001b[38;5;21;01mlivekit\u001b[39;00m\u001b[38;5;21;01m.\u001b[39;00m\u001b[38;5;21;01magents\u001b[39;00m\u001b[38;5;250m \u001b[39m\u001b[38;5;28;01mimport\u001b[39;00m (\n\u001b[0;32m      2\u001b[0m     get_job_context,\n\u001b[0;32m      3\u001b[0m     function_tool,\n\u001b[1;32m   (...)\u001b[0m\n\u001b[0;32m     11\u001b[0m     function_tool,\n\u001b[0;32m     12\u001b[0m )\n\u001b[1;32m---> 13\u001b[0m \u001b[38;5;28;01mfrom\u001b[39;00m\u001b[38;5;250m \u001b[39m\u001b[38;5;21;01mlivekit\u001b[39;00m\u001b[38;5;21;01m.\u001b[39;00m\u001b[38;5;21;01magents\u001b[39;00m\u001b[38;5;250m \u001b[39m\u001b[38;5;28;01mimport\u001b[39;00m AgentTask\n\u001b[0;32m     14\u001b[0m \u001b[38;5;28;01mfrom\u001b[39;00m\u001b[38;5;250m \u001b[39m\u001b[38;5;21;01mlivekit\u001b[39;00m\u001b[38;5;21;01m.\u001b[39;00m\u001b[38;5;21;01mplugins\u001b[39;00m\u001b[38;5;250m \u001b[39m\u001b[38;5;28;01mimport\u001b[39;00m deepgram, elevenlabs, openai, silero,google\n\u001b[0;32m     15\u001b[0m \u001b[38;5;28;01mfrom\u001b[39;00m\u001b[38;5;250m \u001b[39m\u001b[38;5;21;01mdotenv\u001b[39;00m\u001b[38;5;250m \u001b[39m\u001b[38;5;28;01mimport\u001b[39;00m load_dotenv\n",
      "\u001b[1;31mImportError\u001b[0m: cannot import name 'AgentTask' from 'livekit.agents' (C:\\Users\\Admin\\AppData\\Local\\Programs\\Python\\Python311\\Lib\\site-packages\\livekit\\agents\\__init__.py)"
     ]
    }
   ],
   "source": [
    "from livekit.agents import (\n",
    "    get_job_context,\n",
    "    function_tool,\n",
    "    jupyter,\n",
    "    Agent,\n",
    "    AgentSession,\n",
    "    JobContext,\n",
    "    RunContext,\n",
    "    WorkerOptions,\n",
    "    cli,\n",
    "    function_tool,\n",
    ")\n",
    "from livekit.agents import AgentTask\n",
    "from livekit.plugins import deepgram, elevenlabs, openai, silero,google\n",
    "from dotenv import load_dotenv\n",
    "from dataclasses import dataclass\n",
    "_ = load_dotenv(override=True)"
   ]
  },
  {
   "cell_type": "code",
   "execution_count": null,
   "id": "7f84c8cc-e62a-4e82-9970-c21ae8a66213",
   "metadata": {},
   "outputs": [],
   "source": [
    "class CollectConsent(AgentTask[bool]):\n",
    "    def __init__(self):\n",
    "        super().__init__(\n",
    "            instructions=\"Ask for recording consent and get a clear yes or no answer.\"\n",
    "        )\n",
    "\n",
    "    async def on_enter(self) -> None:\n",
    "        await self.session.generate_reply(instructions=\"Ask for permission to record the call for quality assurance purposes.\")\n",
    "\n",
    "    @function_tool\n",
    "    async def consent_given(self) -> None:\n",
    "        \"\"\"Use this when the user gives consent to record.\"\"\"\n",
    "        self.complete(True)\n",
    "\n",
    "    @function_tool\n",
    "    async def consent_denied(self) -> None:\n",
    "        \"\"\"Use this when the user denies consent to record.\"\"\"\n",
    "        self.complete(False)"
   ]
  },
  {
   "cell_type": "code",
   "execution_count": null,
   "id": "4af310ea-456a-4be3-8f49-a3e419c4cdcd",
   "metadata": {},
   "outputs": [],
   "source": [
    "class CustomerServiceAgent(Agent):\n",
    "    def __init__(self):\n",
    "        super().__init__(instructions=\"You are a friendly customer service representative.\")\n",
    "\n",
    "    async def on_enter(self) -> None:\n",
    "        if await CollectConsent(chat_ctx=self.chat_ctx):\n",
    "            await self.session.generate_reply(instructions=\"Offer your assistance to the user.\")\n",
    "        else:\n",
    "            await self.session.generate_reply(instructions=\"Inform the user that you are unable to proceed and will end the call.\")\n",
    "            job_ctx = get_job_context()\n",
    "            await job_ctx.api.room.delete_room(api.DeleteRoomRequest(room=job_ctx.room.name))"
   ]
  },
  {
   "cell_type": "code",
   "execution_count": null,
   "id": "45e2b5ad-e938-45fa-b6f7-44cde2d87983",
   "metadata": {},
   "outputs": [],
   "source": [
    "async def entryPoint(ctx:JobContext):\n",
    "    await ctx.connect()\n",
    "    # agent = Agent(instructions= \"You are a vary funny but intelligent and helpful assistent.your responce always are funny,informative and with good humer.\",\n",
    "    # tools=[information,transfer_to_serious],)\n",
    "    session = AgentSession[MySessionInfo](userdata=MySessionInfo(),vad=silero.VAD.load(),\n",
    "                                            stt=deepgram.STT(model=\"nova-3\"),\n",
    "                                            llm=openai.LLM(model=\"gpt-4o-mini\"),\n",
    "                                            tts=elevenlabs.TTS(voice_id=\"JBFqnCBsd6RMkjVDRZzb\"), )\n",
    "    await session.start(agent=IntakeAgent(),room=ctx.room)\n",
    "    "
   ]
  },
  {
   "cell_type": "code",
   "execution_count": null,
   "id": "ef772454-4551-42a1-998b-122e66eb62b3",
   "metadata": {},
   "outputs": [],
   "source": [
    "jupyter.run_app(\n",
    "    WorkerOptions(entrypoint_fnc=entryPoint), \n",
    "    jupyter_url=\"https://jupyter-api-livekit.vercel.app/api/join-token\"\n",
    ")"
   ]
  }
 ],
 "metadata": {
  "kernelspec": {
   "display_name": "Python 3 (ipykernel)",
   "language": "python",
   "name": "python3"
  },
  "language_info": {
   "codemirror_mode": {
    "name": "ipython",
    "version": 3
   },
   "file_extension": ".py",
   "mimetype": "text/x-python",
   "name": "python",
   "nbconvert_exporter": "python",
   "pygments_lexer": "ipython3",
   "version": "3.11.9"
  }
 },
 "nbformat": 4,
 "nbformat_minor": 5
}
