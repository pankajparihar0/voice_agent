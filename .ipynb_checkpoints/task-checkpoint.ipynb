{
 "cells": [
  {
   "cell_type": "code",
   "execution_count": null,
   "id": "2353eafd-c43f-4313-91ea-95c61eeda879",
   "metadata": {},
   "outputs": [],
   "source": [
    "from livekit.agents import (\n",
    "    get_job_context,\n",
    "    AgentTask,\n",
    "    function_tool,\n",
    "    jupyter,\n",
    "    Agent,\n",
    "    AgentSession,\n",
    "    JobContext,\n",
    "    RunContext,\n",
    "    WorkerOptions,\n",
    "    cli,\n",
    "    function_tool,\n",
    ")\n",
    "from livekit.plugins import deepgram, elevenlabs, openai, silero,google\n",
    "from dotenv import load_dotenv\n",
    "from dataclasses import dataclass\n",
    "_ = load_dotenv(override=True)"
   ]
  },
  {
   "cell_type": "code",
   "execution_count": null,
   "id": "7f84c8cc-e62a-4e82-9970-c21ae8a66213",
   "metadata": {},
   "outputs": [],
   "source": [
    "class CollectConsent(AgentTask[bool]):\n",
    "    def __init__(self):\n",
    "        super().__init__(\n",
    "            instructions=\"Ask for recording consent and get a clear yes or no answer.\"\n",
    "        )\n",
    "\n",
    "    async def on_enter(self) -> None:\n",
    "        await self.session.generate_reply(instructions=\"Ask for permission to record the call for quality assurance purposes.\")\n",
    "\n",
    "    @function_tool\n",
    "    async def consent_given(self) -> None:\n",
    "        \"\"\"Use this when the user gives consent to record.\"\"\"\n",
    "        self.complete(True)\n",
    "\n",
    "    @function_tool\n",
    "    async def consent_denied(self) -> None:\n",
    "        \"\"\"Use this when the user denies consent to record.\"\"\"\n",
    "        self.complete(False)"
   ]
  },
  {
   "cell_type": "code",
   "execution_count": null,
   "id": "4af310ea-456a-4be3-8f49-a3e419c4cdcd",
   "metadata": {},
   "outputs": [],
   "source": [
    "class CustomerServiceAgent(Agent):\n",
    "    def __init__(self):\n",
    "        super().__init__(instructions=\"You are a friendly customer service representative.\")\n",
    "\n",
    "    async def on_enter(self) -> None:\n",
    "        if await CollectConsent(chat_ctx=self.chat_ctx):\n",
    "            await self.session.generate_reply(instructions=\"Offer your assistance to the user.\")\n",
    "        else:\n",
    "            await self.session.generate_reply(instructions=\"Inform the user that you are unable to proceed and will end the call.\")\n",
    "            job_ctx = get_job_context()\n",
    "            await job_ctx.api.room.delete_room(api.DeleteRoomRequest(room=job_ctx.room.name))"
   ]
  },
  {
   "cell_type": "code",
   "execution_count": null,
   "id": "45e2b5ad-e938-45fa-b6f7-44cde2d87983",
   "metadata": {},
   "outputs": [],
   "source": [
    "async def entryPoint(ctx:JobContext):\n",
    "    await ctx.connect()\n",
    "    # agent = Agent(instructions= \"You are a vary funny but intelligent and helpful assistent.your responce always are funny,informative and with good humer.\",\n",
    "    # tools=[information,transfer_to_serious],)\n",
    "    session = AgentSession[MySessionInfo](userdata=MySessionInfo(),vad=silero.VAD.load(),\n",
    "                                            stt=deepgram.STT(model=\"nova-3\"),\n",
    "                                            llm=openai.LLM(model=\"gpt-4o-mini\"),\n",
    "                                            tts=elevenlabs.TTS(voice_id=\"JBFqnCBsd6RMkjVDRZzb\"), )\n",
    "    await session.start(agent=IntakeAgent(),room=ctx.room)\n",
    "    "
   ]
  }
 ],
 "metadata": {
  "kernelspec": {
   "display_name": "Python 3 (ipykernel)",
   "language": "python",
   "name": "python3"
  },
  "language_info": {
   "codemirror_mode": {
    "name": "ipython",
    "version": 3
   },
   "file_extension": ".py",
   "mimetype": "text/x-python",
   "name": "python",
   "nbconvert_exporter": "python",
   "pygments_lexer": "ipython3",
   "version": "3.11.9"
  }
 },
 "nbformat": 4,
 "nbformat_minor": 5
}
